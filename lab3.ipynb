{
 "cells": [
  {
   "cell_type": "code",
   "execution_count": 1,
   "metadata": {
    "collapsed": true
   },
   "outputs": [],
   "source": [
    "import numpy as np\n",
    "import mpmath as mp\n",
    "import math as m\n",
    "from collections import OrderedDict"
   ]
  },
  {
   "cell_type": "code",
   "execution_count": 2,
   "metadata": {
    "collapsed": true
   },
   "outputs": [],
   "source": [
    "def f1(x):\n",
    "    return np.cos(x)*np.cosh(x) - 1"
   ]
  },
  {
   "cell_type": "code",
   "execution_count": 3,
   "metadata": {
    "collapsed": true
   },
   "outputs": [],
   "source": [
    "def f1_derivative(x):\n",
    "    return np.cos(x)*np.sinh(x) - np.sin(x)*np.cosh(x)"
   ]
  },
  {
   "cell_type": "code",
   "execution_count": 4,
   "metadata": {
    "collapsed": true
   },
   "outputs": [],
   "source": [
    "def f2(x):\n",
    "    try:\n",
    "        return 1/x - np.tan(x)\n",
    "    except ZeroDivisionError:\n",
    "        return float('inf')"
   ]
  },
  {
   "cell_type": "code",
   "execution_count": 5,
   "metadata": {
    "collapsed": true
   },
   "outputs": [],
   "source": [
    "def f2_derivative(x):\n",
    "    try:\n",
    "        return -1/m.pow(x,2) - m.pow(mp.sec(x),2)\n",
    "    except ZeroDivisionError:\n",
    "        return float('inf')"
   ]
  },
  {
   "cell_type": "code",
   "execution_count": 6,
   "metadata": {
    "collapsed": true
   },
   "outputs": [],
   "source": [
    "def f3(x):\n",
    "    return m.pow(2,-x) + m.pow(np.exp(1), x) + 2*np.cos(x) - 6"
   ]
  },
  {
   "cell_type": "code",
   "execution_count": 7,
   "metadata": {
    "collapsed": true
   },
   "outputs": [],
   "source": [
    "def f3_derivative(x):\n",
    "    return m.pow(np.exp(1), x) - m.pow(2, -x)*np.log(2) - 2*np.sin(x)"
   ]
  },
  {
   "cell_type": "code",
   "execution_count": 8,
   "metadata": {
    "collapsed": true
   },
   "outputs": [],
   "source": [
    "def f4(x):\n",
    "    return 2*x - 5"
   ]
  },
  {
   "cell_type": "code",
   "execution_count": 9,
   "metadata": {
    "collapsed": true
   },
   "outputs": [],
   "source": [
    "def f4_derivative(x):\n",
    "    return 2"
   ]
  },
  {
   "cell_type": "code",
   "execution_count": 10,
   "metadata": {
    "collapsed": true
   },
   "outputs": [],
   "source": [
    "def bisection(f, a, b, eps=1e-7, max_iters=10):\n",
    "    i = 0\n",
    "    c = a + (b-a)/2.0\n",
    "    while i < max_iters:      \n",
    "        if np.isclose(f(c),0) or abs(b-a) < eps or abs(f(c)) < eps:\n",
    "            return c, i+1\n",
    "        elif np.sign(f(a)) == np.sign(f(c)):\n",
    "            a = c\n",
    "        else:\n",
    "            b = c\n",
    "        c = a + (b-a)/2.0\n",
    "        i += 1\n",
    "    return c, i"
   ]
  },
  {
   "cell_type": "code",
   "execution_count": 11,
   "metadata": {
    "collapsed": true
   },
   "outputs": [],
   "source": [
    "def newton_method(f, f_derivative, a, eps=1e-7, max_iters=10):\n",
    "    i = 0\n",
    "    b = a - f(a)/f_derivative(a)\n",
    "    while i < max_iters and abs(f(a) - f(b)) >= eps:        \n",
    "        if abs(a - b) < eps:\n",
    "            return b, i+1\n",
    "        else:\n",
    "            a = b\n",
    "            b = a - f(a)/f_derivative(a)\n",
    "            i += 1\n",
    "    return b, i"
   ]
  },
  {
   "cell_type": "code",
   "execution_count": 12,
   "metadata": {},
   "outputs": [],
   "source": [
    "def secant_method(f, a, b, eps=1e-7, max_iters=20):\n",
    "    i = 0\n",
    "    c = a - f(a)*((a-b)/(f(a)-f(b)))\n",
    "    while i < max_iters and abs(a - b) >= eps:\n",
    "        if abs(f(a) - f(b)) < eps:\n",
    "            return \"bad starting points\"\n",
    "        if abs(f(c)) < eps:\n",
    "            return c, i+1\n",
    "        else:\n",
    "            c = a - f(a)*((a-b)/(f(a)-f(b)))\n",
    "            b = a\n",
    "            a = c\n",
    "            i += 1\n",
    "    return c, i"
   ]
  },
  {
   "cell_type": "code",
   "execution_count": 13,
   "metadata": {},
   "outputs": [
    {
     "data": {
      "text/plain": [
       "OrderedDict([('f1 1e-7 ', (4.730040760589331, 25)),\n",
       "             ('f1 1e-15', (4.730040744862961, 32)),\n",
       "             ('f1 1e-33', (4.730040744862961, 32)),\n",
       "             ('f2 1e-7 ', (0.8603336023821229, 25)),\n",
       "             ('f2 1e-15', (0.8603335906787782, 27)),\n",
       "             ('f2 1e-33', (0.8603335906787782, 27)),\n",
       "             ('f3 1e-7 ', (1.8293836116790771, 23)),\n",
       "             ('f3 1e-15', (1.8293836042284966, 28)),\n",
       "             ('f3 1e-33', (1.8293836042284966, 28)),\n",
       "             ('f4 1e-33', (2.5, 2))])"
      ]
     },
     "execution_count": 13,
     "metadata": {},
     "output_type": "execute_result"
    }
   ],
   "source": [
    "bisection_results = OrderedDict()\n",
    "\n",
    "bisection_results['f1 1e-7 '] = bisection(f1, 3/2*np.pi, 2*np.pi, eps=1e-7, max_iters=10000)\n",
    "bisection_results['f1 1e-15'] = bisection(f1, 3/2*np.pi, 2*np.pi, eps=1e-15, max_iters=10000)\n",
    "bisection_results['f1 1e-33'] = bisection(f1, 3/2*np.pi, 2*np.pi, eps=1e-33, max_iters=10000)\n",
    "\n",
    "bisection_results['f2 1e-7 '] = bisection(f2, 0, 1/2 * np.pi, eps=1e-7, max_iters=10000)\n",
    "bisection_results['f2 1e-15'] = bisection(f2, 0, 1/2 * np.pi, eps=1e-15, max_iters=10000)\n",
    "bisection_results['f2 1e-33'] = bisection(f2, 0, 1/2 * np.pi, eps=1e-33, max_iters=10000)\n",
    "\n",
    "bisection_results['f3 1e-7 '] = bisection(f3, 1, 3, eps=1e-7, max_iters=10000)\n",
    "bisection_results['f3 1e-15'] = bisection(f3, 1, 3, eps=1e-15, max_iters=10000)\n",
    "bisection_results['f3 1e-33'] = bisection(f3, 1, 3, eps=1e-33, max_iters=10000)\n",
    "\n",
    "bisection_results['f4 1e-33'] = bisection(f4, 0, 10, eps=1e-33, max_iters=10000)\n",
    "\n",
    "bisection_results"
   ]
  },
  {
   "cell_type": "code",
   "execution_count": 14,
   "metadata": {},
   "outputs": [
    {
     "data": {
      "text/plain": [
       "OrderedDict([('f1 1e-7 ', (4.7300407448627135, 3)),\n",
       "             ('f1 1e-15', (4.7300407448627038, 4)),\n",
       "             ('f1 1e-33', (4.7300407448627038, 4)),\n",
       "             ('f2 1e-7 ', (0.86033358901937984, 6)),\n",
       "             ('f2 1e-15', (0.86033358901937984, 7)),\n",
       "             ('f2 1e-33', (0.86033358901937984, 7)),\n",
       "             ('f3 1e-7 ', (1.829383601933849, 7)),\n",
       "             ('f3 1e-15', (1.829383601933849, 8)),\n",
       "             ('f3 1e-33', (1.829383601933849, 8)),\n",
       "             ('f4 1e-33', (2.5, 1))])"
      ]
     },
     "execution_count": 14,
     "metadata": {},
     "output_type": "execute_result"
    }
   ],
   "source": [
    "newton_results = OrderedDict()\n",
    "\n",
    "newton_results['f1 1e-7 '] = newton_method(f1, f1_derivative, 3/2*np.pi, eps=1e-7)\n",
    "newton_results['f1 1e-15'] = newton_method(f1, f1_derivative, 3/2*np.pi, eps=1e-15)\n",
    "newton_results['f1 1e-33'] = newton_method(f1, f1_derivative, 3/2*np.pi, eps=1e-33)\n",
    "\n",
    "newton_results['f2 1e-7 '] = newton_method(f2, f2_derivative, 0.1, eps=1e-7)\n",
    "newton_results['f2 1e-15'] = newton_method(f2, f2_derivative, 0.1, eps=1e-15)\n",
    "newton_results['f2 1e-33'] = newton_method(f2, f2_derivative, 0.1, eps=1e-33)\n",
    "\n",
    "newton_results['f3 1e-7 '] = newton_method(f3, f3_derivative, 1, eps=1e-7)\n",
    "newton_results['f3 1e-15'] = newton_method(f3, f3_derivative, 1, eps=1e-15)\n",
    "newton_results['f3 1e-33'] = newton_method(f3, f3_derivative, 1, eps=1e-33)\n",
    "\n",
    "newton_results['f4 1e-33'] = newton_method(f4, f4_derivative, 0, eps=1e-33)\n",
    "\n",
    "newton_results"
   ]
  },
  {
   "cell_type": "code",
   "execution_count": 15,
   "metadata": {},
   "outputs": [
    {
     "data": {
      "text/plain": [
       "OrderedDict([('f1 1e-7 ', (4.7300407443649322, 5)),\n",
       "             ('f1 1e-15', (4.7300407448627038, 7)),\n",
       "             ('f1 1e-33', (4.7300407448627038, 7)),\n",
       "             ('f2 1e-7 ', (0.10000000000000089, 1)),\n",
       "             ('f2 1e-15', (0.10000000000000089, 1)),\n",
       "             ('f2 1e-33', (0.86033358901937984, 12)),\n",
       "             ('f3 1e-7 ', (1.8293835930291964, 10)),\n",
       "             ('f3 1e-15', (1.829383601933849, 12)),\n",
       "             ('f3 1e-33', (1.829383601933849, 12)),\n",
       "             ('f4 1e-33', (2.5, 1))])"
      ]
     },
     "execution_count": 15,
     "metadata": {},
     "output_type": "execute_result"
    }
   ],
   "source": [
    "secant_results = OrderedDict()\n",
    "\n",
    "secant_results['f1 1e-7 '] = secant_method(f1, 3/2*np.pi, 2*np.pi, eps=1e-7)\n",
    "secant_results['f1 1e-15'] = secant_method(f1, 3/2*np.pi, 2*np.pi, eps=1e-15)\n",
    "secant_results['f1 1e-33'] = secant_method(f1, 3/2*np.pi, 2*np.pi, eps=1e-33)\n",
    "\n",
    "secant_results['f2 1e-7 '] = secant_method(f2, 0.1, 1/2 * np.pi, eps=1e-7)\n",
    "secant_results['f2 1e-15'] = secant_method(f2, 0.1, 1/2 * np.pi, eps=1e-15)\n",
    "secant_results['f2 1e-33'] = secant_method(f2, 0.1, 1/2 * np.pi, eps=1e-33)\n",
    "\n",
    "secant_results['f3 1e-7 '] = secant_method(f3, 1, 3, eps=1e-7)\n",
    "secant_results['f3 1e-15'] = secant_method(f3, 1, 3, eps=1e-15)\n",
    "secant_results['f3 1e-33'] = secant_method(f3, 1, 3, eps=1e-33)\n",
    "\n",
    "secant_results['f4 1e-33'] = secant_method(f4, 0, 10, eps=1e-33)\n",
    "\n",
    "secant_results"
   ]
  },
  {
   "cell_type": "code",
   "execution_count": null,
   "metadata": {
    "collapsed": true
   },
   "outputs": [],
   "source": []
  }
 ],
 "metadata": {
  "kernelspec": {
   "display_name": "Python 3",
   "language": "python",
   "name": "python3"
  },
  "language_info": {
   "codemirror_mode": {
    "name": "ipython",
    "version": 3
   },
   "file_extension": ".py",
   "mimetype": "text/x-python",
   "name": "python",
   "nbconvert_exporter": "python",
   "pygments_lexer": "ipython3",
   "version": "3.6.3"
  }
 },
 "nbformat": 4,
 "nbformat_minor": 2
}
